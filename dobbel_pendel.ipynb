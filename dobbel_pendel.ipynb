{
 "cells": [
  {
   "cell_type": "code",
   "execution_count": 3,
   "metadata": {},
   "outputs": [],
   "source": [
    "from sympy import *\n",
    "from sympy.physics.mechanics import * \n",
    "import numpy as np\n",
    "from scipy.integrate import odeint, ode, solve_ivp\n",
    "\n",
    "\n",
    "init_vprinting()\n"
   ]
  },
  {
   "cell_type": "code",
   "execution_count": 4,
   "metadata": {},
   "outputs": [
    {
     "data": {
      "text/latex": [
       "$\\displaystyle \\left[\\begin{matrix}\\dot{\\theta}_{1}\\\\\\ddot{\\theta}_{1}\\\\\\dot{\\theta}_{2}\\\\\\ddot{\\theta}_{2}\\end{matrix}\\right] = \\left[\\begin{matrix}\\dot{\\theta}_{1}\\\\- \\frac{\\ell_{2} m_{2} \\sin{\\left(\\theta_{1} - \\theta_{2} \\right)} \\dot{\\theta}_{2}^{2} + \\ell_{2} m_{2} \\cos{\\left(\\theta_{1} - \\theta_{2} \\right)} \\ddot{\\theta}_{2} + g m_{1} \\sin{\\left(\\theta_{1} \\right)} + g m_{2} \\sin{\\left(\\theta_{1} \\right)}}{\\ell_{1} \\left(m_{1} + m_{2}\\right)}\\\\\\dot{\\theta}_{2}\\\\\\frac{\\ell_{1} \\sin{\\left(\\theta_{1} - \\theta_{2} \\right)} \\dot{\\theta}_{1}^{2} - \\ell_{1} \\cos{\\left(\\theta_{1} - \\theta_{2} \\right)} \\ddot{\\theta}_{1} - g \\sin{\\left(\\theta_{2} \\right)}}{\\ell_{2}}\\end{matrix}\\right]$"
      ],
      "text/plain": [
       "       ⎡                                         θ₁̇                          \n",
       "       ⎢                                                                      \n",
       "       ⎢ ⎛                       2                                            \n",
       "⎡θ₁̇⎤   ⎢-⎝ell₂⋅m₂⋅sin(θ₁ - θ₂)⋅θ₂̇  + ell₂⋅m₂⋅cos(θ₁ - θ₂)⋅θ₂̈ + g⋅m₁⋅sin(θ₁)\n",
       "⎢  ⎥   ⎢──────────────────────────────────────────────────────────────────────\n",
       "⎢θ₁̈⎥   ⎢                                   ell₁⋅(m₁ + m₂)                    \n",
       "⎢  ⎥ = ⎢                                                                      \n",
       "⎢θ₂̇⎥   ⎢                                         θ₂̇                         \n",
       "⎢  ⎥   ⎢                                                                      \n",
       "⎣θ₂̈⎦   ⎢                                  2                                  \n",
       "       ⎢              ell₁⋅sin(θ₁ - θ₂)⋅θ₁̇  - ell₁⋅cos(θ₁ - θ₂)⋅θ₁̈ - g⋅sin(θ\n",
       "       ⎢              ────────────────────────────────────────────────────────\n",
       "       ⎣                                        ell₂                          \n",
       "\n",
       "               ⎤\n",
       "              ⎥\n",
       "            ⎞ ⎥\n",
       " + g⋅m₂⋅sin(θ₁)⎠ ⎥\n",
       "──────────────⎥\n",
       "               ⎥\n",
       "              ⎥\n",
       "                ⎥\n",
       "              ⎥\n",
       "               ⎥\n",
       "₂)              ⎥\n",
       "              ⎥\n",
       "              ⎦"
      ]
     },
     "execution_count": 4,
     "metadata": {},
     "output_type": "execute_result"
    }
   ],
   "source": [
    "g, m1, m2, ell1, ell2, t = symbols('g m1 m2 ell1 ell2 t')\n",
    "theta1, theta2 = dynamicsymbols('theta1 theta2')\n",
    "\n",
    "xm1 = ell1*sin(theta1)\n",
    "ym1 = - ell1*cos(theta1)\n",
    "\n",
    "xm2 = ell1*sin(theta1) + ell2*sin(theta2)\n",
    "ym2 = - ell1*cos(theta1) - ell2*cos(theta2)\n",
    "\n",
    "\n",
    "# time derivatives\n",
    "xm1_dot = diff(xm1, t)\n",
    "ym1_dot = diff(ym1, t)\n",
    "\n",
    "xm2_dot = diff(xm2, t)\n",
    "ym2_dot = diff(ym2, t)\n",
    "\n",
    "\n",
    "theta1_dot = diff(theta1, t)\n",
    "theta1_ddot = diff(theta1_dot, t)\n",
    "\n",
    "theta2_dot = diff(theta2, t)\n",
    "theta2_ddot = diff(theta2_dot, t)\n",
    "\n",
    "#Defining kinetic energy\n",
    "T = 1/2 * m1 * (xm1_dot**2 + ym1_dot**2) + 1/2 * m2 * (xm2_dot**2 + ym2_dot **2)\n",
    "\n",
    "#Defining potential energy   m*g*h = m * g * y\n",
    "V = m1 * g * ym1 + m2 * g * ym2\n",
    "\n",
    "#Lagrangian\n",
    "L = T - V \n",
    "\n",
    "eqn1 = diff(diff(L, theta1_dot), t) - diff(L, theta1)\n",
    "eqn2 = diff(diff(L, theta2_dot), t) - diff(L, theta2)\n",
    "\n",
    "sln1 = solve(eqn1, theta1_ddot)[0]\n",
    "sln2 = solve(eqn2, theta2_ddot)[0]\n",
    "\n",
    "\n",
    "\n",
    "x = Matrix([theta1, theta1_dot, theta2, theta2_dot])\n",
    "x_dot = diff(x, t)\n",
    "\n",
    "\n",
    "Eq(x_dot, Matrix([theta1_dot, sln1, theta2_dot, sln2]))\n",
    "\n",
    "\n"
   ]
  },
  {
   "cell_type": "code",
   "execution_count": 245,
   "metadata": {},
   "outputs": [
    {
     "data": {
      "image/png": "[encoded data removed]",
      "text/latex": [
       "$\\displaystyle \\frac{\\ell_{1} \\sin{\\left(\\theta_{1} - \\theta_{2} \\right)} \\dot{\\theta}_{1}^{2} - g \\sin{\\left(\\theta_{2} \\right)}}{\\ell_{2}}$"
      ],
      "text/plain": [
       "                    2            \n",
       "ell₁⋅sin(θ₁ - θ₂)⋅θ₁̇  - g⋅sin(θ₂)\n",
       "─────────────────────────────────\n",
       "               ell₂              "
      ]
     },
     "execution_count": 245,
     "metadata": {},
     "output_type": "execute_result"
    }
   ],
   "source": [
    "sln1_corrected = (-ell2*m2*sin(theta1 - theta2)*theta2_dot**2 +g * m1 * sin(theta1) + g*m2*sin(theta1))/(ell1*(m1+m2))\n",
    "sln2_corrected = (ell1*sin(theta1 - theta2)*theta1_dot**2 - g*sin(theta2))/ell2\n",
    "sln2_corrected"
   ]
  },
  {
   "cell_type": "code",
   "execution_count": 246,
   "metadata": {},
   "outputs": [
    {
     "data": {
      "text/latex": [
       "$\\displaystyle \\left[\\begin{matrix}1 & 0 & 0 & 0\\\\0 & 1 & 0 & - \\frac{\\ell_{2} m_{2} \\cos{\\left(\\theta_{1} - \\theta_{2} \\right)}}{\\ell_{1} \\left(m_{1} + m_{2}\\right)}\\\\0 & 0 & 1 & 0\\\\0 & \\frac{\\ell_{1} \\cos{\\left(\\theta_{1} - \\theta_{2} \\right)}}{\\ell_{2}} & 0 & 1\\end{matrix}\\right]$"
      ],
      "text/plain": [
       "⎡1          0          0            0           ⎤\n",
       "⎢                                               ⎥\n",
       "⎢                         -ell₂⋅m₂⋅cos(θ₁ - θ₂) ⎥\n",
       "⎢0          1          0  ──────────────────────⎥\n",
       "⎢                             ell₁⋅(m₁ + m₂)    ⎥\n",
       "⎢                                               ⎥\n",
       "⎢0          0          1            0           ⎥\n",
       "⎢                                               ⎥\n",
       "⎢   ell₁⋅cos(θ₁ - θ₂)                           ⎥\n",
       "⎢0  ─────────────────  0            1           ⎥\n",
       "⎣          ell₂                                 ⎦"
      ]
     },
     "execution_count": 246,
     "metadata": {},
     "output_type": "execute_result"
    }
   ],
   "source": [
    "#help me \n",
    "\n",
    "correction_matrix = Matrix([[1, 0, 0, 0], [0, 1, 0, (-ell2*m2*cos(theta1 - theta2))/(ell1*(m1+m2))],[0, 0, 1, 0],[0, ell1*cos(theta1 - theta2)/ell2, 0, 1]])\n",
    "correction_matrix\n",
    "\n"
   ]
  },
  {
   "cell_type": "code",
   "execution_count": 247,
   "metadata": {},
   "outputs": [
    {
     "data": {
      "text/latex": [
       "$\\displaystyle \\left[\\begin{matrix}1 & 0 & 0 & 0\\\\0 & \\frac{m_{1} + m_{2}}{m_{1} + m_{2} \\cos^{2}{\\left(\\theta_{1} - \\theta_{2} \\right)} + m_{2}} & 0 & \\frac{\\ell_{2} m_{2} \\cos{\\left(\\theta_{1} - \\theta_{2} \\right)}}{\\ell_{1} m_{1} + \\ell_{1} m_{2} \\cos^{2}{\\left(\\theta_{1} - \\theta_{2} \\right)} + \\ell_{1} m_{2}}\\\\0 & 0 & 1 & 0\\\\0 & \\frac{- \\ell_{1} m_{1} \\cos{\\left(\\theta_{1} - \\theta_{2} \\right)} - \\ell_{1} m_{2} \\cos{\\left(\\theta_{1} - \\theta_{2} \\right)}}{\\ell_{2} m_{1} + \\ell_{2} m_{2} \\cos^{2}{\\left(\\theta_{1} - \\theta_{2} \\right)} + \\ell_{2} m_{2}} & 0 & \\frac{m_{1} + m_{2}}{m_{1} + m_{2} \\cos^{2}{\\left(\\theta_{1} - \\theta_{2} \\right)} + m_{2}}\\end{matrix}\\right]$"
      ],
      "text/plain": [
       "⎡1                       0                        0                      0    \n",
       "⎢                                                                             \n",
       "⎢                     m₁ + m₂                                   ell₂⋅m₂⋅cos(θ₁\n",
       "⎢0           ──────────────────────────           0  ─────────────────────────\n",
       "⎢                       2                                                 2   \n",
       "⎢            m₁ + m₂⋅cos (θ₁ - θ₂) + m₂              ell₁⋅m₁ + ell₁⋅m₂⋅cos (θ₁\n",
       "⎢                                                                             \n",
       "⎢0                       0                        1                      0    \n",
       "⎢                                                                             \n",
       "⎢   -ell₁⋅m₁⋅cos(θ₁ - θ₂) - ell₁⋅m₂⋅cos(θ₁ - θ₂)                     m₁ + m₂  \n",
       "⎢0  ────────────────────────────────────────────  0         ──────────────────\n",
       "⎢                         2                                            2      \n",
       "⎣    ell₂⋅m₁ + ell₂⋅m₂⋅cos (θ₁ - θ₂) + ell₂⋅m₂              m₁ + m₂⋅cos (θ₁ - \n",
       "\n",
       "                ⎤\n",
       "                ⎥\n",
       " - θ₂)          ⎥\n",
       "────────────────⎥\n",
       "                ⎥\n",
       " - θ₂) + ell₁⋅m₂⎥\n",
       "                ⎥\n",
       "                ⎥\n",
       "                ⎥\n",
       "                ⎥\n",
       "────────        ⎥\n",
       "                ⎥\n",
       "θ₂) + m₂        ⎦"
      ]
     },
     "execution_count": 247,
     "metadata": {},
     "output_type": "execute_result"
    }
   ],
   "source": [
    "correction_matrix_inv = correction_matrix.inv()\n",
    "correction_matrix_inv"
   ]
  },
  {
   "cell_type": "code",
   "execution_count": 264,
   "metadata": {},
   "outputs": [
    {
     "data": {
      "text/latex": [
       "$\\displaystyle \\left[\\begin{matrix}\\dot{\\theta}_{1}\\\\\\ddot{\\theta}_{1}\\\\\\dot{\\theta}_{2}\\\\\\ddot{\\theta}_{2}\\end{matrix}\\right] = \\left[\\begin{matrix}\\dot{\\theta}_{1}\\\\\\frac{- \\ell_{2} m_{2} \\sin{\\left(\\theta_{1} - \\theta_{2} \\right)} \\dot{\\theta}_{2}^{2} + g m_{1} \\sin{\\left(\\theta_{1} \\right)} + g m_{2} \\sin{\\left(\\theta_{1} \\right)}}{\\ell_{1} \\left(m_{1} + m_{2}\\right)}\\\\\\dot{\\theta}_{2}\\\\\\frac{\\ell_{1} \\sin{\\left(\\theta_{1} - \\theta_{2} \\right)} \\dot{\\theta}_{1}^{2} - g \\sin{\\left(\\theta_{2} \\right)}}{\\ell_{2}}\\end{matrix}\\right]$"
      ],
      "text/plain": [
       "       ⎡                           θ₁̇                           ⎤\n",
       "       ⎢                                                        ⎥\n",
       "       ⎢                         2                              ⎥\n",
       "⎡θ₁̇⎤   ⎢- ell₂⋅m₂⋅sin(θ₁ - θ₂)⋅θ₂̇  + g⋅m₁⋅sin(θ₁) + g⋅m₂⋅sin(θ₁)⎥\n",
       "⎢  ⎥   ⎢────────────────────────────────────────────────────────⎥\n",
       "⎢θ₁̈⎥   ⎢                     ell₁⋅(m₁ + m₂)                     ⎥\n",
       "⎢  ⎥ = ⎢                                                        ⎥\n",
       "⎢θ₂̇⎥   ⎢                           θ₂̇                           ⎥\n",
       "⎢  ⎥   ⎢                                                        ⎥\n",
       "⎣θ₂̈⎦   ⎢                               2                        ⎥\n",
       "       ⎢           ell₁⋅sin(θ₁ - θ₂)⋅θ₁̇  - g⋅sin(θ₂)            ⎥\n",
       "       ⎢           ─────────────────────────────────            ⎥\n",
       "       ⎣                          ell₂                          ⎦"
      ]
     },
     "execution_count": 264,
     "metadata": {},
     "output_type": "execute_result"
    }
   ],
   "source": [
    "\n",
    "x = Matrix([theta1, theta1_dot, theta2, theta2_dot])\n",
    "x_dot = diff(x, t)\n",
    "\n",
    "\n",
    "Eq(x_dot, Matrix([theta1_dot, sln1_corrected, theta2_dot, sln2_corrected]))\n"
   ]
  },
  {
   "cell_type": "code",
   "execution_count": 249,
   "metadata": {},
   "outputs": [
    {
     "data": {
      "text/latex": [
       "$\\displaystyle \\left[\\begin{matrix}\\dot{\\theta}_{1}\\\\\\frac{m_{2} \\left(\\ell_{1} \\sin{\\left(\\theta_{1} - \\theta_{2} \\right)} \\dot{\\theta}_{1}^{2} - g \\sin{\\left(\\theta_{2} \\right)}\\right) \\cos{\\left(\\theta_{1} - \\theta_{2} \\right)}}{\\ell_{1} m_{1} + \\ell_{1} m_{2} \\cos^{2}{\\left(\\theta_{1} - \\theta_{2} \\right)} + \\ell_{1} m_{2}} + \\frac{- \\ell_{2} m_{2} \\sin{\\left(\\theta_{1} - \\theta_{2} \\right)} \\dot{\\theta}_{2}^{2} + g m_{1} \\sin{\\left(\\theta_{1} \\right)} + g m_{2} \\sin{\\left(\\theta_{1} \\right)}}{\\ell_{1} \\left(m_{1} + m_{2} \\cos^{2}{\\left(\\theta_{1} - \\theta_{2} \\right)} + m_{2}\\right)}\\\\\\dot{\\theta}_{2}\\\\\\frac{\\left(m_{1} + m_{2}\\right) \\left(\\ell_{1} \\sin{\\left(\\theta_{1} - \\theta_{2} \\right)} \\dot{\\theta}_{1}^{2} - g \\sin{\\left(\\theta_{2} \\right)}\\right)}{\\ell_{2} \\left(m_{1} + m_{2} \\cos^{2}{\\left(\\theta_{1} - \\theta_{2} \\right)} + m_{2}\\right)} + \\frac{\\left(- \\ell_{1} m_{1} \\cos{\\left(\\theta_{1} - \\theta_{2} \\right)} - \\ell_{1} m_{2} \\cos{\\left(\\theta_{1} - \\theta_{2} \\right)}\\right) \\left(- \\ell_{2} m_{2} \\sin{\\left(\\theta_{1} - \\theta_{2} \\right)} \\dot{\\theta}_{2}^{2} + g m_{1} \\sin{\\left(\\theta_{1} \\right)} + g m_{2} \\sin{\\left(\\theta_{1} \\right)}\\right)}{\\ell_{1} \\left(m_{1} + m_{2}\\right) \\left(\\ell_{2} m_{1} + \\ell_{2} m_{2} \\cos^{2}{\\left(\\theta_{1} - \\theta_{2} \\right)} + \\ell_{2} m_{2}\\right)}\\end{matrix}\\right]$"
      ],
      "text/plain": [
       "⎡                                                                           θ₁\n",
       "⎢                                                                             \n",
       "⎢                        ⎛                    2            ⎞                  \n",
       "⎢                     m₂⋅⎝ell₁⋅sin(θ₁ - θ₂)⋅θ₁̇  - g⋅sin(θ₂)⎠⋅cos(θ₁ - θ₂)   -\n",
       "⎢                     ─────────────────────────────────────────────────── + ──\n",
       "⎢                                               2                             \n",
       "⎢                          ell₁⋅m₁ + ell₁⋅m₂⋅cos (θ₁ - θ₂) + ell₁⋅m₂          \n",
       "⎢                                                                             \n",
       "⎢                                                                           θ₂\n",
       "⎢                                                                             \n",
       "⎢          ⎛                    2            ⎞                                \n",
       "⎢(m₁ + m₂)⋅⎝ell₁⋅sin(θ₁ - θ₂)⋅θ₁̇  - g⋅sin(θ₂)⎠   (-ell₁⋅m₁⋅cos(θ₁ - θ₂) - ell\n",
       "⎢───────────────────────────────────────────── + ─────────────────────────────\n",
       "⎢           ⎛           2              ⎞                                      \n",
       "⎣      ell₂⋅⎝m₁ + m₂⋅cos (θ₁ - θ₂) + m₂⎠                                 ell₁⋅\n",
       "\n",
       "̇                                                                            ⎤\n",
       "                                                                            ⎥\n",
       "                       2                                                    ⎥\n",
       " ell₂⋅m₂⋅sin(θ₁ - θ₂)⋅θ₂̇  + g⋅m₁⋅sin(θ₁) + g⋅m₂⋅sin(θ₁)                      \n",
       "──────────────────────────────────────────────────────                      ⎥\n",
       "              ⎛           2              ⎞                                  ⎥\n",
       "         ell₁⋅⎝m₁ + m₂⋅cos (θ₁ - θ₂) + m₂⎠                                  ⎥\n",
       "                                                                            ⎥\n",
       "̇                                                                            ⎥\n",
       "                                                                            ⎥\n",
       "                  ⎛                         2                              ⎞⎥\n",
       "₁⋅m₂⋅cos(θ₁ - θ₂))⋅⎝- ell₂⋅m₂⋅sin(θ₁ - θ₂)⋅θ₂̇  + g⋅m₁⋅sin(θ₁) + g⋅m₂⋅sin(θ₁)⎠\n",
       "────────────────────────────────────────────────────────────────────────────⎥\n",
       "          ⎛                     2                   ⎞                       ⎥\n",
       "(m₁ + m₂)⋅⎝ell₂⋅m₁ + ell₂⋅m₂⋅cos (θ₁ - θ₂) + ell₂⋅m₂⎠                       ⎦"
      ]
     },
     "execution_count": 249,
     "metadata": {},
     "output_type": "execute_result"
    }
   ],
   "source": [
    "#Findin ODE I'll use\n",
    "A = Matrix([theta1_dot, sln1_corrected, theta2_dot, sln2_corrected])\n",
    "\n",
    "ODE_equations = correction_matrix_inv * A\n",
    "ODE_equations\n"
   ]
  },
  {
   "cell_type": "code",
   "execution_count": 250,
   "metadata": {},
   "outputs": [
    {
     "name": "stdout",
     "output_type": "stream",
     "text": [
      "m2*(ell1*sin(theta1(t) - theta2(t))*Derivative(theta1(t), t)**2 - g*sin(theta2(t)))*cos(theta1(t) - theta2(t))/(ell1*m1 + ell1*m2*cos(theta1(t) - theta2(t))**2 + ell1*m2) + (-ell2*m2*sin(theta1(t) - theta2(t))*Derivative(theta2(t), t)**2 + g*m1*sin(theta1(t)) + g*m2*sin(theta1(t)))/(ell1*(m1 + m2*cos(theta1(t) - theta2(t))**2 + m2))\n"
     ]
    }
   ],
   "source": [
    "# print(ODE_equations[1])\n"
   ]
  },
  {
   "cell_type": "code",
   "execution_count": 216,
   "metadata": {},
   "outputs": [
    {
     "name": "stdout",
     "output_type": "stream",
     "text": [
      "(m1 + m2)*(ell1*sin(theta1(t) - theta2(t))*Derivative(theta1(t), t)**2 - g*sin(theta2(t)))/(ell2*(m1 + m2*cos(theta1(t) - theta2(t))**2 + m2)) + (-ell1*m1*cos(theta1(t) - theta2(t)) - ell1*m2*cos(theta1(t) - theta2(t)))*(-ell2*m2*sin(theta1(t) - theta2(t))*Derivative(theta2(t), t)**2 + g*m1*sin(theta1(t)) + g*m2*sin(theta1(t)))/(ell1*(m1 + m2)*(ell2*m1 + ell2*m2*cos(theta1(t) - theta2(t))**2 + ell2*m2))\n"
     ]
    }
   ],
   "source": [
    "# print(ODE_equations[3])"
   ]
  },
  {
   "cell_type": "code",
   "execution_count": 123,
   "metadata": {},
   "outputs": [
    {
     "data": {
      "image/png": "[encoded data removed]",
      "text/latex": [
       "$\\displaystyle \\frac{\\left(- \\ell_{2} m_{2} \\sin{\\left(\\theta_{1} - \\theta_{2} \\right)} \\dot{\\theta}_{2}^{2} + g m_{1} \\sin{\\left(\\theta_{1} \\right)} + g m_{2} \\sin{\\left(\\theta_{1} \\right)}\\right) \\cos{\\left(\\theta_{1} - \\theta_{2} \\right)}}{\\left(m_{1} + m_{2}\\right) \\left(\\ell_{1} \\ell_{2} m_{2} \\cos^{2}{\\left(\\theta_{1} - \\theta_{2} \\right)} - 1\\right)} - \\frac{\\ell_{1} \\sin{\\left(\\theta_{1} - \\theta_{2} \\right)} \\dot{\\theta}_{1}^{2} + g \\sin{\\left(\\theta_{2} \\right)}}{\\ell_{2} \\left(\\ell_{1} \\ell_{2} m_{2} \\cos^{2}{\\left(\\theta_{1} - \\theta_{2} \\right)} - 1\\right)}$"
      ],
      "text/plain": [
       "⎛                         2                              ⎞                    \n",
       "⎝- ell₂⋅m₂⋅sin(θ₁ - θ₂)⋅θ₂̇  + g⋅m₁⋅sin(θ₁) + g⋅m₂⋅sin(θ₁)⎠⋅cos(θ₁ - θ₂)     e\n",
       "─────────────────────────────────────────────────────────────────────── - ────\n",
       "                         ⎛                2             ⎞                     \n",
       "               (m₁ + m₂)⋅⎝ell₁⋅ell₂⋅m₂⋅cos (θ₁ - θ₂) - 1⎠                 ell₂\n",
       "\n",
       "                  2              \n",
       "ll₁⋅sin(θ₁ - θ₂)⋅θ₁̇  + g⋅sin(θ₂) \n",
       "─────────────────────────────────\n",
       " ⎛                2             ⎞\n",
       "⋅⎝ell₁⋅ell₂⋅m₂⋅cos (θ₁ - θ₂) - 1⎠"
      ]
     },
     "execution_count": 123,
     "metadata": {},
     "output_type": "execute_result"
    }
   ],
   "source": [
    "# theta2_dd = ((-ell2*m2*sin(theta1 - theta2)*theta2_dot**2 + g*m1*sin(theta1) + g*m2*sin(theta1))*cos(theta1 - theta2)/((m1 + m2)*(ell1*ell2*m2*cos(theta1 - theta2)**2 - 1)) - (ell1*sin(theta1 - theta2)*theta1_dot**2 + g*sin(theta2))/(ell2*(ell1*ell2*m2*cos(theta1 - theta2)**2 - 1)))\n",
    "# theta2_dd"
   ]
  },
  {
   "cell_type": "code",
   "execution_count": 5,
   "metadata": {},
   "outputs": [],
   "source": [
    "g = -9.81\n",
    "ell1 = 3\n",
    "ell2 = 1.556643\n",
    "m1 = 2\n",
    "m2 = 3\n",
    "\n",
    "\n",
    "def double_pendelum_ODE(t, y):\n",
    "\n",
    "   theta1 = y[0]\n",
    "   theta1_dot = y[1]\n",
    "   theta2 = y[2]\n",
    "   theta2_dot = y[3]\n",
    "\n",
    "   theta1_dd = m2*(ell1*sin(theta1 - theta2)*theta1_dot**2 - g*sin(theta2))*cos(theta1 - theta2)/(ell1*m1 + ell1*m2*cos(theta1 - theta2)**2 + ell1*m2) + (-ell2*m2*sin(theta1 - theta2)*theta2_dot**2 + g*m1*sin(theta1) + g*m2*sin(theta1))/(ell1*(m1 + m2*cos(theta1 - theta2)**2 + m2))\n",
    "\n",
    "   \n",
    "   theta2_dd = (m1 + m2)*(ell1*sin(theta1 - theta2)*theta1_dot**2 - g*sin(theta2))/(ell2*(m1 + m2*cos(theta1 - theta2)**2 + m2)) + (-ell1*m1*cos(theta1 - theta2) - ell1*m2*cos(theta1 - theta2))*(-ell2*m2*sin(theta1 - theta2)*theta2_dot**2 + g*m1*sin(theta1) + g*m2*sin(theta1))/(ell1*(m1 + m2)*(ell2*m1 + ell2*m2*cos(theta1 - theta2)**2 + ell2*m2))\n",
    "\n",
    "\n",
    "\n",
    "   return(theta1_dot, theta1_dd, theta2_dot, theta2_dd)"
   ]
  },
  {
   "cell_type": "code",
   "execution_count": 12,
   "metadata": {},
   "outputs": [],
   "source": [
    "theta1_0 = np.deg2rad(90)\n",
    "theta1_dot0 = 0\n",
    "theta2_0 = np.deg2rad(90)\n",
    "theta2_dot0 = 0\n",
    "\n",
    "\n",
    "theta1_dd = 0\n",
    "theta2_dd = 0\n",
    "\n",
    "frames = np.linspace(0, 10, 30*10)\n",
    "\n",
    "#fikk chat til å skrive funksjonen basert på bildet over: \n",
    "time_points = np.linspace(0, 5, 300)  # 10 seconds, 30 frames per second\n",
    "sol = solve_ivp(double_pendelum_ODE, [0, 10], [theta1_0, theta1_dot0, theta2_0, theta2_dot0], t_eval=time_points, method='Radau', atol=1e-11, rtol=1e-7)\n",
    "\n",
    "theta1 = sol.y[0]\n",
    "theta1_dot = sol.y[1]\n",
    "theta2 = sol.y[2]\n",
    "theta2_dot = sol.y[3]\n",
    "t = sol.t\n",
    "\n",
    "theta1_deg = np.rad2deg(sol.y[0])\n",
    "theta2_deg = np.rad2deg(sol.y[2])\n",
    "theta1_dot_deg = np.rad2deg(sol.y[1])\n",
    "theta2_dot_deg = np.rad2deg(sol.y[3])\n",
    "\n",
    "\n",
    "np.savetxt('double_pend.csv', np.transpose([theta1_deg, theta1_dot_deg, theta2_deg, theta2_dot_deg]), delimiter=',')\n"
   ]
  },
  {
   "cell_type": "code",
   "execution_count": 13,
   "metadata": {},
   "outputs": [
    {
     "data": {
      "text/plain": [
       "  message: The solver successfully reached the end of the integration interval.\n",
       "  success: True\n",
       "   status: 0\n",
       "        t: [ 0.000e+00  1.672e-02 ...  4.983e+00  5.000e+00]\n",
       "        y: [[ 1.571e+00  1.571e+00 ... -4.339e-01 -4.502e-01]\n",
       "            [ 0.000e+00 -1.367e-02 ... -9.710e-01 -9.815e-01]\n",
       "            [ 1.571e+00  1.572e+00 ...  3.460e+00  3.403e+00]\n",
       "            [ 0.000e+00  1.317e-01 ... -3.359e+00 -3.384e+00]]\n",
       "      sol: None\n",
       " t_events: None\n",
       " y_events: None\n",
       "     nfev: 5149\n",
       "     njev: 41\n",
       "      nlu: 256"
      ]
     },
     "execution_count": 13,
     "metadata": {},
     "output_type": "execute_result"
    }
   ],
   "source": [
    "# #Trash\n",
    "\n",
    "# def double_pendelum_ODE(t, y):\n",
    "\n",
    "#    theta1 = y[0]\n",
    "#    theta1_dot = y[1]\n",
    "#    theta2 = y[2]\n",
    "#    theta2_dot = y[3]\n",
    "\n",
    "\n",
    "#    theta1_dd = (-ell2*m2*np.sin(theta1 - theta2)*theta2_dot**2 - ell2*m2*np.cos(theta1 - theta2)*theta2_dd + g*m1*np.sin(theta1) + g*m2*np.sin(theta1)) / (ell1*(m1 + m2))\n",
    "#    theta2_dd = (ell1*np.sin(theta1 - theta2)*theta1_dot**2 - ell1*np.cos(theta1 - theta2)*theta1_dd + g*np.sin(theta2))/ell2\n",
    "\n",
    "#    # theta1_dd = (-ell2*m2*np.sin(y[0] - y[2])*y[3]**2 - ell2*m2*np.cos(y[0] - y[2])*theta2_dd + g*m1*np.sin(y[0]) + g*m2*np.sin(y[0])) / (ell1*(m1 + m2))\n",
    "#    # theta2_dd = (ell1*np.sin(y[0] - y[2])*y[1] - ell1*np.cos(y[0] - y[2])*theta1_dd + g*np.sin(y[2])/ell2)\n",
    "#    return(theta1_dot, theta1_dd, theta2_dot, theta2_dd)\n",
    "sol"
   ]
  },
  {
   "cell_type": "code",
   "execution_count": 10,
   "metadata": {},
   "outputs": [],
   "source": [
    "import matplotlib.pyplot as plt\n",
    "import matplotlib.animation as animation\n",
    "import matplotlib.gridspec as gridspec"
   ]
  },
  {
   "cell_type": "code",
   "execution_count": null,
   "metadata": {},
   "outputs": [],
   "source": [
    "# theta1_dd = (m2*(ell1*sin(theta1 - theta1)*theta1_dot**2 + g*sin(theta1))*cos(theta1 - theta1)/(ell1*ell2*m2*cos(theta1 - theta1)**2 - 1) - \n",
    "#              (-ell2*m2*sin(theta1 - theta1)*theta2_dot**2 + g*m1*sin(theta1) + g*m2*sin(theta1))/(ell1*(m1 + m2)*(ell1*ell2*m2*cos(theta1 - \n",
    "#               theta1)**2 - 1)))\n",
    "\n",
    "# theta1_dd                 "
   ]
  },
  {
   "cell_type": "code",
   "execution_count": 14,
   "metadata": {},
   "outputs": [
    {
     "data": {
      "text/plain": [
       "<matplotlib.legend.Legend at 0x7fe023ec18a0>"
      ]
     },
     "execution_count": 14,
     "metadata": {},
     "output_type": "execute_result"
    },
    {
     "data": {
      "image/png": "[encoded data removed]",
      "text/plain": [
       "<Figure size 640x480 with 1 Axes>"
      ]
     },
     "metadata": {},
     "output_type": "display_data"
    }
   ],
   "source": [
    "\n",
    "\n",
    "plt.plot(t, theta1_deg, label='1')\n",
    "plt.plot(t, theta1_dot_deg)\n",
    "plt.plot(t, theta2_deg, label='2')\n",
    "plt.plot(t, theta2_dot_deg)\n",
    "plt.legend()\n",
    "\n",
    "\n"
   ]
  },
  {
   "cell_type": "code",
   "execution_count": 15,
   "metadata": {},
   "outputs": [
    {
     "data": {
      "image/png": "[encoded data removed]",
      "text/plain": [
       "<Figure size 640x480 with 3 Axes>"
      ]
     },
     "metadata": {},
     "output_type": "display_data"
    }
   ],
   "source": [
    "def pend_pos1(theta):\n",
    "   theta1 = np.deg2rad(theta)\n",
    "   return (ell1*np.sin(theta1), -ell1*np.cos(theta1))\n",
    "\n",
    "def pend_pos2(theta1_deg, theta2_deg):\n",
    "   theta1 = np.deg2rad(theta1_deg)\n",
    "   theta2 = np.deg2rad(theta2_deg)\n",
    "   return (ell1*np.sin(theta1) + ell2*np.sin(theta2), -ell1*np.cos(theta1) - ell2*np.cos(theta2))\n",
    "\n",
    "\n",
    "\n",
    "\n",
    "fig = plt.figure()\n",
    "gs = gridspec.GridSpec(2,2, width_ratios=[1,2], height_ratios=[1,1])\n",
    "\n",
    "\n",
    "\n",
    "\n",
    "ax0 = fig.add_subplot(gs[0,0])\n",
    "ax1 = fig.add_subplot(gs[1,0])\n",
    "ax2 = fig.add_subplot(gs[:,1])\n",
    "\n",
    "theta_curve, = ax0.plot(t[0], theta1_deg[0], 'r')\n",
    "theta_dot_curve, = ax0.plot(t[0], theta1_dot_deg[0], 'b')\n",
    "\n",
    "phase_curve, = ax1.plot(theta1_deg[0], theta1_dot_deg[0], 'b')\n",
    "phase_dot, = ax1.plot(theta1_deg[0], theta1_dot_deg[0], 'ro')\n",
    "\n",
    "x0, y0 = pend_pos1(theta1_0)\n",
    "x0_2, y0_2 = pend_pos2(theta1_0, theta2_0)\n",
    "\n",
    "line, = ax2.plot([0, x0], [0, y0], lw=2, c = 'k')\n",
    "circle =ax2.add_patch(plt.Circle(pend_pos1(theta1_0), 0.2, fc='r', zorder=3))\n",
    "line2, = ax2.plot([x0, x0_2], [y0, y0_2], lw=2, c='k')\n",
    "circle2 = ax2.add_patch(plt.Circle(pend_pos2(theta1_0, theta2_0), 0.2, fc='g', zorder=3))\n",
    "\n",
    "ax0.set_xlim(0,5)\n",
    "ax0.set_ylim(-100,100)\n",
    "\n",
    "ax1.set_xlim(-40, 40)\n",
    "ax1.set_ylim(-100,100)\n",
    "ax1.grid()\n",
    "ax0.grid()\n",
    "\n",
    "ax2.set_xlim(-5,5)\n",
    "ax2.set_ylim(-5,5)\n",
    "\n",
    "\n",
    "\n",
    "def animate(i):\n",
    "   theta_curve.set_data(t[:i+1], theta1_deg[:i+1])\n",
    "   theta_dot_curve.set_data(t[:i+1], theta1_dot_deg[:i+1])\n",
    "\n",
    "   phase_curve.set_data(theta1_deg[:i+1], theta1_dot_deg[:i+1])\n",
    "   phase_dot.set_data(theta1_deg[i], theta1_dot_deg[i])\n",
    "\n",
    "   x, y = pend_pos1(theta1_deg[i])\n",
    "   x2, y2 = pend_pos2(theta1_deg[i], theta2_deg[i])\n",
    "   line.set_data([0, x], [0,y])\n",
    "   line2.set_data([x, x2], [y, y2])\n",
    "   circle.set_center((x,y))\n",
    "   circle2.set_center((x2, y2))\n",
    "\n",
    "\n",
    "ani = animation.FuncAnimation(fig, animate, frames=len(t))\n",
    "ffmpeg_writer = animation.FFMpegWriter(fps=30)\n",
    "ani.save('time_domain_double_pend.mp4', writer=ffmpeg_writer)\n"
   ]
  }
 ],
 "metadata": {
  "kernelspec": {
   "display_name": "Python 3",
   "language": "python",
   "name": "python3"
  },
  "language_info": {
   "codemirror_mode": {
    "name": "ipython",
    "version": 3
   },
   "file_extension": ".py",
   "mimetype": "text/x-python",
   "name": "python",
   "nbconvert_exporter": "python",
   "pygments_lexer": "ipython3",
   "version": "3.10.12"
  }
 },
 "nbformat": 4,
 "nbformat_minor": 2
}
